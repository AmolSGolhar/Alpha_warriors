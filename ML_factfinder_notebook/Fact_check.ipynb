{
 "cells": [
  {
   "cell_type": "code",
   "execution_count": 46,
   "id": "c96d68b4-5c0a-4fdd-9c8d-340e3e38da52",
   "metadata": {
    "tags": []
   },
   "outputs": [],
   "source": [
    "import pandas as pd\n",
    "import cufflinks as cf\n",
    "from IPython.core.display import HTML\n",
    "from sklearn.feature_extraction.text import CountVectorizer, TfidfVectorizer\n",
    "from sklearn.model_selection import train_test_split\n",
    "from sklearn.ensemble import AdaBoostClassifier\n",
    "from sklearn.tree import DecisionTreeClassifier\n",
    "from collections import OrderedDict"
   ]
  },
  {
   "cell_type": "code",
   "execution_count": 47,
   "id": "3d34ff6d-91e6-4c80-9a97-ae40417e842d",
   "metadata": {
    "tags": []
   },
   "outputs": [],
   "source": [
    "df = pd.read_csv(r'news_articles.csv', encoding=\"latin\", index_col=0)\n",
    "df = df.dropna()"
   ]
  },
  {
   "cell_type": "code",
   "execution_count": 48,
   "id": "c2f00613-175b-4c4b-a1cf-6d8cefbf41f2",
   "metadata": {
    "tags": []
   },
   "outputs": [
    {
     "data": {
      "text/html": [
       "        <script type=\"text/javascript\">\n",
       "        window.PlotlyConfig = {MathJaxConfig: 'local'};\n",
       "        if (window.MathJax && window.MathJax.Hub && window.MathJax.Hub.Config) {window.MathJax.Hub.Config({SVG: {font: \"STIX-Web\"}});}\n",
       "        if (typeof require !== 'undefined') {\n",
       "        require.undef(\"plotly\");\n",
       "        requirejs.config({\n",
       "            paths: {\n",
       "                'plotly': ['https://cdn.plot.ly/plotly-2.12.1.min']\n",
       "            }\n",
       "        });\n",
       "        require(['plotly'], function(Plotly) {\n",
       "            window._Plotly = Plotly;\n",
       "        });\n",
       "        }\n",
       "        </script>\n",
       "        "
      ]
     },
     "metadata": {},
     "output_type": "display_data"
    }
   ],
   "source": [
    "cf.go_offline()\n",
    "cf.set_config_file(offline=False, world_readable=True)"
   ]
  },
  {
   "cell_type": "code",
   "execution_count": 49,
   "id": "259e2367-0ff7-4e39-a134-0c8e572f48e2",
   "metadata": {
    "tags": []
   },
   "outputs": [
    {
     "data": {
      "text/html": [
       "<table border=\"1\" class=\"dataframe\">\n",
       "  <thead>\n",
       "    <tr style=\"text-align: right;\">\n",
       "      <th></th>\n",
       "      <th>site_url</th>\n",
       "      <th>label</th>\n",
       "      <th>main_img_url</th>\n",
       "    </tr>\n",
       "    <tr>\n",
       "      <th>author</th>\n",
       "      <th></th>\n",
       "      <th></th>\n",
       "      <th></th>\n",
       "    </tr>\n",
       "  </thead>\n",
       "  <tbody>\n",
       "    <tr>\n",
       "      <th>Fed Up</th>\n",
       "      <td>100percentfedup.com</td>\n",
       "      <td>Real</td>\n",
       "      <td><img src=\"http://100percentfedup.com/wp-content/uploads/2016/11/hillary-looking-down.jpg\" width=\"80\"></td>\n",
       "    </tr>\n",
       "    <tr>\n",
       "      <th>Fed Up</th>\n",
       "      <td>100percentfedup.com</td>\n",
       "      <td>Real</td>\n",
       "      <td><img src=\"http://100percentfedup.com/wp-content/uploads/2016/11/snipes-dem.jpg\" width=\"80\"></td>\n",
       "    </tr>\n",
       "    <tr>\n",
       "      <th>Fed Up</th>\n",
       "      <td>100percentfedup.com</td>\n",
       "      <td>Real</td>\n",
       "      <td><img src=\"http://100percentfedup.com/wp-content/uploads/2016/05/hillary-comey.jpg\" width=\"80\"></td>\n",
       "    </tr>\n",
       "    <tr>\n",
       "      <th>Fed Up</th>\n",
       "      <td>100percentfedup.com</td>\n",
       "      <td>Real</td>\n",
       "      <td><img src=\"http://100percentfedup.com/wp-content/uploads/2016/11/TRUCK-TORCHED-HILLARY.jpg\" width=\"80\"></td>\n",
       "    </tr>\n",
       "  </tbody>\n",
       "</table>"
      ],
      "text/plain": [
       "<IPython.core.display.HTML object>"
      ]
     },
     "execution_count": 49,
     "metadata": {},
     "output_type": "execute_result"
    }
   ],
   "source": [
    "def convert(path):\n",
    "    return '<img src=\"'+ path + '\" width=\"80\">'\n",
    "df_sources = df[['site_url','label','main_img_url']]\n",
    "df_r = df_sources.loc[df['label']== 'Real'].iloc[6:10,:]\n",
    "df_f = df_sources.loc[df['label']== 'Fake'].head(6)\n",
    "HTML(df_r.to_html(escape=False, formatters=dict(main_img_url=convert)))"
   ]
  },
  {
   "cell_type": "code",
   "execution_count": 50,
   "id": "c42ee87e-cffc-4668-a116-1877e6dba16d",
   "metadata": {
    "tags": []
   },
   "outputs": [
    {
     "data": {
      "text/html": [
       "<table border=\"1\" class=\"dataframe\">\n",
       "  <thead>\n",
       "    <tr style=\"text-align: right;\">\n",
       "      <th></th>\n",
       "      <th>site_url</th>\n",
       "      <th>label</th>\n",
       "      <th>main_img_url</th>\n",
       "    </tr>\n",
       "    <tr>\n",
       "      <th>author</th>\n",
       "      <th></th>\n",
       "      <th></th>\n",
       "      <th></th>\n",
       "    </tr>\n",
       "  </thead>\n",
       "  <tbody>\n",
       "    <tr>\n",
       "      <th>No Author</th>\n",
       "      <td>21stcenturywire.com</td>\n",
       "      <td>Fake</td>\n",
       "      <td><img src=\"http://21stcenturywire.com/wp-content/uploads/2016/10/1-Syria-No-Fly-Zone.png\" width=\"80\"></td>\n",
       "    </tr>\n",
       "    <tr>\n",
       "      <th>No Author</th>\n",
       "      <td>21stcenturywire.com</td>\n",
       "      <td>Fake</td>\n",
       "      <td><img src=\"http://21stcenturywire.com/wp-content/uploads/2016/10/1-FBI-Comey-Hillary-Clinton-e1477728962985.jpg\" width=\"80\"></td>\n",
       "    </tr>\n",
       "    <tr>\n",
       "      <th>Shawn Helton</th>\n",
       "      <td>21stcenturywire.com</td>\n",
       "      <td>Fake</td>\n",
       "      <td><img src=\"http://21stcenturywire.com/wp-content/uploads/2016/10/Clinton-New-FBI-Probe-21WIRE-SLIDER-New.jpg\" width=\"80\"></td>\n",
       "    </tr>\n",
       "    <tr>\n",
       "      <th>Mike Rivero</th>\n",
       "      <td>21stcenturywire.com</td>\n",
       "      <td>Fake</td>\n",
       "      <td><img src=\"http://i1.wp.com/21stcenturywire.com/wp-content/uploads/2016/10/DNC-SCANDAL-PART2-21WIRE-SLIDER-SH-1.jpg?fit=620%2C415\" width=\"80\"></td>\n",
       "    </tr>\n",
       "    <tr>\n",
       "      <th>No Author</th>\n",
       "      <td>21stcenturywire.com</td>\n",
       "      <td>Fake</td>\n",
       "      <td><img src=\"http://i0.wp.com/21stcenturywire.com/wp-content/uploads/2016/11/2-Clinton-Podesta-Email.jpg?fit=610%2C415\" width=\"80\"></td>\n",
       "    </tr>\n",
       "    <tr>\n",
       "      <th>Shawn Helton</th>\n",
       "      <td>21stcenturywire.com</td>\n",
       "      <td>Fake</td>\n",
       "      <td><img src=\"http://i2.wp.com/21stcenturywire.com/wp-content/uploads/2016/10/Clinton-Gold-21WIRE-SLIDER-SH.jpg?fit=620%2C415\" width=\"80\"></td>\n",
       "    </tr>\n",
       "  </tbody>\n",
       "</table>"
      ],
      "text/plain": [
       "<IPython.core.display.HTML object>"
      ]
     },
     "execution_count": 50,
     "metadata": {},
     "output_type": "execute_result"
    }
   ],
   "source": [
    "df_sources = df[['site_url','label','main_img_url']]\n",
    "df_r = df_sources.loc[df['label']== 'Real'].iloc[6:10,:]\n",
    "df_f = df_sources.loc[df['label']== 'Fake'].head(6)\n",
    "HTML(df_f.to_html(escape=False, formatters=dict(main_img_url=convert)))"
   ]
  },
  {
   "cell_type": "code",
   "execution_count": 51,
   "id": "47902fbf-1326-48f9-af7b-00a9a7af4f54",
   "metadata": {
    "tags": []
   },
   "outputs": [],
   "source": [
    "type_label = {'Real': 0, 'Fake': 1}\n",
    "type_mapping = {'bias': 0, 'conspiracy': 1, 'fake': 2, 'bs': 3, 'satire': 4, 'hate': 5, 'junksci': 6, 'state': 7}\n",
    "df['label'] = df['label'].map(type_label)\n",
    "df['type'] = df['type'].map(type_mapping)"
   ]
  },
  {
   "cell_type": "code",
   "execution_count": 52,
   "id": "e16bc98b-775c-4ea0-9449-2af969029773",
   "metadata": {
    "tags": []
   },
   "outputs": [],
   "source": [
    "def plot_bar(df, feat_x, feat_y, normalize=True):\n",
    "    ct = pd.crosstab(df[feat_x], df[feat_y])\n",
    "    if normalize:\n",
    "        ct = ct.div(ct.sum(axis=1), axis=0)\n",
    "    return ct.plot(kind='bar', stacked=True)\n"
   ]
  },
  {
   "cell_type": "code",
   "execution_count": 53,
   "id": "98084a9e-cf90-4ad5-9a47-f969483a2aa7",
   "metadata": {
    "tags": []
   },
   "outputs": [],
   "source": [
    "df_type = df[['site_url', 'type']]\n",
    "\n",
    "# Sampling and shuffling the DataFrame\n",
    "# df1 = df.sample(frac=1)\n"
   ]
  },
  {
   "cell_type": "code",
   "execution_count": 55,
   "id": "c7eef7db-b7fd-41e6-99da-972e50628660",
   "metadata": {
    "tags": []
   },
   "outputs": [
    {
     "name": "stdout",
     "output_type": "stream",
     "text": [
      "The headline 'pin drop speech by father of daughter kidnapped and killed by isis i have voted for donald j trump  percentfedupcom' is classified as: Real\n"
     ]
    }
   ],
   "source": [
    "x = df1['text_without_stopwords']  # Feature: text_without_stopwords\n",
    "y = df1['type']  # Label: type\n",
    "\n",
    "\n",
    "unique_types = y.unique()\n",
    "# print(\"Unique values in 'type' column:\", unique_types)\n",
    "\n",
    "class_mapping = {value: f'Type_{value}' for value in unique_types}\n",
    "\n",
    "# Display the updated mapping dictionary\n",
    "# print(\"Updated Mapping Dictionary:\", class_mapping)\n",
    "\n",
    "# Split the data into training and testing sets\n",
    "x_train, x_test, y_train, y_test = train_test_split(x, y, test_size=0.30)\n",
    "\n",
    "# Create and fit the TF-IDF vectorizer\n",
    "tfidf_vect = TfidfVectorizer(stop_words='english')\n",
    "tfidf_train = tfidf_vect.fit_transform(x_train)\n",
    "\n",
    "# Train your classifier (Adab in this case)\n",
    "Adab = AdaBoostClassifier(DecisionTreeClassifier(max_depth=10), n_estimators=5, random_state=1)\n",
    "Adab.fit(tfidf_train, y_train)\n",
    "\n",
    "\n",
    "\n",
    "def classify_news_headline(headline, tfidf_vectorizer, adaboost_classifier):\n",
    "    headline_processed = ' '.join(headline.split())\n",
    "    headline_tfidf = tfidf_vectorizer.transform([headline_processed])\n",
    "    prediction = adaboost_classifier.predict(headline_tfidf)[0]\n",
    "    class_mapping = {0: 'Real', 1: 'Fake'}\n",
    "    predicted_class = class_mapping.get(prediction, 'Unknown')\n",
    "    return predicted_class\n",
    "\n",
    "# Example usage:\n",
    "headline_to_classify = \"pin drop speech by father of daughter kidnapped and killed by isis i have voted for donald j trump  percentfedupcom\"#sample headline from the dataset\n",
    "classification_result = classify_news_headline(headline_to_classify, tfidf_vect, Adab)\n",
    "print(f\"The headline '{headline_to_classify}' is classified as: {classification_result}\")"
   ]
  },
  {
   "cell_type": "code",
   "execution_count": null,
   "id": "7a4e0049-2cf2-48bd-beb5-9a5c3819e8b7",
   "metadata": {},
   "outputs": [],
   "source": []
  }
 ],
 "metadata": {
  "kernelspec": {
   "display_name": "Python 3 (ipykernel)",
   "language": "python",
   "name": "python3"
  },
  "language_info": {
   "codemirror_mode": {
    "name": "ipython",
    "version": 3
   },
   "file_extension": ".py",
   "mimetype": "text/x-python",
   "name": "python",
   "nbconvert_exporter": "python",
   "pygments_lexer": "ipython3",
   "version": "3.11.5"
  }
 },
 "nbformat": 4,
 "nbformat_minor": 5
}
